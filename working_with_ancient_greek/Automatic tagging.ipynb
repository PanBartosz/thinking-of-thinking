{
 "cells": [
  {
   "cell_type": "markdown",
   "id": "e1955737",
   "metadata": {},
   "source": [
    "# Autonatic tagging with Classical Languages Toolkit (CLTK, http://cltk.org/)"
   ]
  },
  {
   "cell_type": "code",
   "execution_count": 1,
   "id": "c7034e13",
   "metadata": {},
   "outputs": [],
   "source": [
    "from pprint import pprint\n",
    "#from cltk.data.fetch import FetchCorpus\n",
    "#corpus_downloader = FetchCorpus(language=\"grc\")\n",
    "#corpus_downloader.list_corpora\n",
    "#corpus_downloader.import_corpus(\"grc_sxoftware_tlgu\")\n",
    "#corpus_downloader.import_corpus(\"grc_text_perseus\")\n",
    "#corpus_downloader.import_corpus('grc_models_cltk')\n",
    "#corpus_downloader.import_corpus('tlg') # this can import texts from CD?\n",
    "#corpus_downloader.import_corpus('greek_proper_names_cltk')\n",
    "#corpus_downloader.import_corpus('greek_lexica_perseus')"
   ]
  },
  {
   "cell_type": "markdown",
   "id": "1f9f6b56",
   "metadata": {},
   "source": [
    "# Natural language processing pipeline for Ancient Greek"
   ]
  },
  {
   "cell_type": "markdown",
   "id": "b4cb393d",
   "metadata": {},
   "source": [
    "### English translation\n",
    "\n",
    "It is a troublesome and difficult task that philosophy has in hand when it undertakes to cure garrulousness. For the remedy, words of reason, requires listeners; but the garrulous listen to nobody, for they are always talking. And this is the first symptom of their ailment: looseness of the tongue becomes impotence of the ears.a For it is a deliberate deafness, that of men who, I take it, blame Nature because they have only one tongue, but two ears.b If, then, Euripidesc was right when he said with reference to the unintelligent hearer,\n",
    "\n",
    "### Ancient Greek original\n",
    "\n",
    "Δύσκολον μὲν ἀναλαμβάνει θεράπευμα καὶ χαλεπὸν ἡ φιλοσοφία τὴν ἀδολεσχίαν. τὸ γὰρ φάρμακον αὐτῆς, ὁ λόγος, ἀκουόντων ἐστίν, οἱ δ᾿ Cἀδόλεσχοι οὐδενὸς ἀκούουσιν· ἀεὶ γὰρ λαλοῦσι. καὶ τοῦτ᾿ ἔχει πρῶτον κακὸν ἡ ἀσιγησία, τὴν ἀνηκοΐαν. κωφότης γὰρ αὐθαίρετός ἐστιν, ἀνθρώπων, οἶμαι, μεμφομένων τὴν φύσιν, ὅτι μίαν μὲν γλῶτταν δύο δ᾿ ὦτ᾿ ἔχουσιν. εἴπερ1 οὖν ὁ Εὐριπίδης καλῶς εἶπε πρὸς τὸν ἀσύνετον ἀκροατήν,"
   ]
  },
  {
   "cell_type": "markdown",
   "id": "518c47af",
   "metadata": {},
   "source": [
    "## Creating a standard pipeline"
   ]
  },
  {
   "cell_type": "code",
   "execution_count": 4,
   "id": "b477c6fd",
   "metadata": {},
   "outputs": [
    {
     "name": "stdout",
     "output_type": "stream",
     "text": [
      "‎𐤀 CLTK version '1.1.6'.\n",
      "Pipeline for language 'Ancient Greek' (ISO: 'grc'): `GreekNormalizeProcess`, `GreekStanzaProcess`, `GreekEmbeddingsProcess`, `StopsProcess`.\n"
     ]
    }
   ],
   "source": [
    "from cltk import NLP\n",
    "greek_nlp = NLP(language = \"grc\")\n",
    "plutarch_fragment = \"Δύσκολον μὲν ἀναλαμβάνει θεράπευμα καὶ χαλεπὸν ἡ φιλοσοφία τὴν ἀδολεσχίαν. τὸ γὰρ φάρμακον αὐτῆς, ὁ λόγος, ἀκουόντων ἐστίν, οἱ δ᾿ Cἀδόλεσχοι οὐδενὸς ἀκούουσιν· ἀεὶ γὰρ λαλοῦσι. καὶ τοῦτ᾿ ἔχει πρῶτον κακὸν ἡ ἀσιγησία, τὴν ἀνηκοΐαν. κωφότης γὰρ αὐθαίρετός ἐστιν, ἀνθρώπων, οἶμαι, μεμφομένων τὴν φύσιν, ὅτι μίαν μὲν γλῶτταν δύο δ᾿ ὦτ᾿ ἔχουσιν. εἴπερ1 οὖν ὁ Εὐριπίδης καλῶς εἶπε πρὸς τὸν ἀσύνετον ἀκροατήν,\"\n",
    "plutarch_fragment_analyzed = greek_nlp(text = plutarch_fragment)"
   ]
  },
  {
   "cell_type": "markdown",
   "id": "9125895f",
   "metadata": {},
   "source": [
    "## What can NLP do for you?\n",
    "\n",
    "It can automatically tag a text in Ancient Greek for:\n",
    "- part of speech (POS)\n",
    "- morphosyntactic features (e.g. case, mood, gender, number, etc.)\n",
    "- dependency relations\n",
    "- lemmas (canonical form of the word)"
   ]
  },
  {
   "cell_type": "markdown",
   "id": "5c282917",
   "metadata": {},
   "source": [
    "Here are first ten \"tokens\" from the fragment. Note that the token is not the same as the word. It is just segmented into parts."
   ]
  },
  {
   "cell_type": "code",
   "execution_count": 36,
   "id": "dc92e42c",
   "metadata": {},
   "outputs": [
    {
     "data": {
      "text/plain": [
       "['Δύσκολον',\n",
       " 'μὲν',\n",
       " 'ἀναλαμβάνει',\n",
       " 'θεράπευμα',\n",
       " 'καὶ',\n",
       " 'χαλεπὸν',\n",
       " 'ἡ',\n",
       " 'φιλοσοφία',\n",
       " 'τὴν',\n",
       " 'ἀδολεσχίαν.']"
      ]
     },
     "execution_count": 36,
     "metadata": {},
     "output_type": "execute_result"
    }
   ],
   "source": [
    "plutarch_fragment_analyzed.tokens[:10]"
   ]
  },
  {
   "cell_type": "markdown",
   "id": "8655eef7",
   "metadata": {},
   "source": [
    "For each token we can show its canonical for (lemma) as it was detected by the neural network:"
   ]
  },
  {
   "cell_type": "code",
   "execution_count": 37,
   "id": "ce7c720c",
   "metadata": {},
   "outputs": [
    {
     "data": {
      "text/plain": [
       "['Δύσκολος',\n",
       " 'μέν',\n",
       " 'ἀναλαμβάνω',\n",
       " 'θεράπευμα',\n",
       " 'καί',\n",
       " 'χαλεπός',\n",
       " 'ὁ',\n",
       " 'φιλοσοφία',\n",
       " 'ὁ',\n",
       " 'ἀδολεσχίαν']"
      ]
     },
     "execution_count": 37,
     "metadata": {},
     "output_type": "execute_result"
    }
   ],
   "source": [
    "plutarch_fragment_analyzed.lemmata[:10]"
   ]
  },
  {
   "cell_type": "markdown",
   "id": "73f7b0a8",
   "metadata": {},
   "source": [
    "And here are part of speech tags:"
   ]
  },
  {
   "cell_type": "code",
   "execution_count": 38,
   "id": "e2b6cd39",
   "metadata": {},
   "outputs": [
    {
     "data": {
      "text/plain": [
       "['PROPN', 'ADV', 'VERB', 'NOUN', 'CCONJ', 'ADJ', 'DET', 'NOUN', 'DET', 'NOUN']"
      ]
     },
     "execution_count": 38,
     "metadata": {},
     "output_type": "execute_result"
    }
   ],
   "source": [
    "plutarch_fragment_analyzed.pos[:10]"
   ]
  },
  {
   "cell_type": "markdown",
   "id": "07cf5a14",
   "metadata": {},
   "source": [
    "In addition to that you can also view morphosyntactic features assigned to any given word. Here is an example of the word φιλοσοφία."
   ]
  },
  {
   "cell_type": "code",
   "execution_count": 39,
   "id": "128aa757",
   "metadata": {},
   "outputs": [
    {
     "data": {
      "text/plain": [
       "{Case: [nominative], Gender: [feminine], Number: [singular]}"
      ]
     },
     "execution_count": 39,
     "metadata": {},
     "output_type": "execute_result"
    }
   ],
   "source": [
    "plutarch_fragment_analyzed.morphosyntactic_features[7] # φιλοσοφία"
   ]
  },
  {
   "cell_type": "markdown",
   "id": "32456b93",
   "metadata": {},
   "source": [
    "# Detailed info on words "
   ]
  },
  {
   "cell_type": "markdown",
   "id": "742455e3",
   "metadata": {},
   "source": [
    "### Δύσκολον"
   ]
  },
  {
   "cell_type": "code",
   "execution_count": 40,
   "id": "7675702a",
   "metadata": {},
   "outputs": [
    {
     "name": "stdout",
     "output_type": "stream",
     "text": [
      "Word(index_char_start=None,\n",
      "     index_char_stop=None,\n",
      "     index_token=0,\n",
      "     index_sentence=0,\n",
      "     string='Δύσκολον',\n",
      "     pos=proper_noun,\n",
      "     lemma='Δύσκολος',\n",
      "     stem=None,\n",
      "     scansion=None,\n",
      "     xpos='Ne',\n",
      "     upos='PROPN',\n",
      "     dependency_relation='obj',\n",
      "     governor=2,\n",
      "     features={Case: [accusative], Gender: [masculine], Number: [singular]},\n",
      "     category={F: [neg], N: [pos], V: [neg]},\n",
      "     stop=False,\n",
      "     named_entity=None,\n",
      "     syllables=None,\n",
      "     phonetic_transcription=None,\n",
      "     definition=None)\n"
     ]
    }
   ],
   "source": [
    "pprint(plutarch_fragment_analyzed.words[0]) "
   ]
  },
  {
   "cell_type": "markdown",
   "id": "7a4e8db3",
   "metadata": {},
   "source": [
    "### ἀναλαμβάνει"
   ]
  },
  {
   "cell_type": "code",
   "execution_count": 41,
   "id": "ccc22db5",
   "metadata": {},
   "outputs": [
    {
     "name": "stdout",
     "output_type": "stream",
     "text": [
      "Word(index_char_start=None,\n",
      "     index_char_stop=None,\n",
      "     index_token=2,\n",
      "     index_sentence=0,\n",
      "     string='ἀναλαμβάνει',\n",
      "     pos=verb,\n",
      "     lemma='ἀναλαμβάνω',\n",
      "     stem=None,\n",
      "     scansion=None,\n",
      "     xpos='V-',\n",
      "     upos='VERB',\n",
      "     dependency_relation='root',\n",
      "     governor=-1,\n",
      "     features={Mood: [indicative], Number: [singular], Person: [third], Tense: [present], VerbForm: [finite], Voice: [active]},\n",
      "     category={F: [neg], N: [neg], V: [pos]},\n",
      "     stop=False,\n",
      "     named_entity=None,\n",
      "     syllables=None,\n",
      "     phonetic_transcription=None,\n",
      "     definition=None)\n"
     ]
    }
   ],
   "source": [
    "pprint(plutarch_fragment_analyzed.words[2])"
   ]
  },
  {
   "cell_type": "markdown",
   "id": "2517c6a0",
   "metadata": {},
   "source": [
    "### καὶ"
   ]
  },
  {
   "cell_type": "code",
   "execution_count": 42,
   "id": "56096cbc",
   "metadata": {},
   "outputs": [
    {
     "name": "stdout",
     "output_type": "stream",
     "text": [
      "Word(index_char_start=None,\n",
      "     index_char_stop=None,\n",
      "     index_token=4,\n",
      "     index_sentence=0,\n",
      "     string='καὶ',\n",
      "     pos=coordinating_conjunction,\n",
      "     lemma='καί',\n",
      "     stem=None,\n",
      "     scansion=None,\n",
      "     xpos='C-',\n",
      "     upos='CCONJ',\n",
      "     dependency_relation='cc',\n",
      "     governor=2,\n",
      "     features={},\n",
      "     category={F: [pos]},\n",
      "     stop=True,\n",
      "     named_entity=None,\n",
      "     syllables=None,\n",
      "     phonetic_transcription=None,\n",
      "     definition=None)\n"
     ]
    }
   ],
   "source": [
    "pprint(plutarch_fragment_analyzed.words[4]) "
   ]
  },
  {
   "cell_type": "markdown",
   "id": "db38bec5",
   "metadata": {},
   "source": [
    "### φιλοσοφία"
   ]
  },
  {
   "cell_type": "code",
   "execution_count": 43,
   "id": "2fae62a1",
   "metadata": {},
   "outputs": [
    {
     "name": "stdout",
     "output_type": "stream",
     "text": [
      "Word(index_char_start=None,\n",
      "     index_char_stop=None,\n",
      "     index_token=7,\n",
      "     index_sentence=0,\n",
      "     string='φιλοσοφία',\n",
      "     pos=noun,\n",
      "     lemma='φιλοσοφία',\n",
      "     stem=None,\n",
      "     scansion=None,\n",
      "     xpos='Nb',\n",
      "     upos='NOUN',\n",
      "     dependency_relation='nsubj',\n",
      "     governor=5,\n",
      "     features={Case: [nominative], Gender: [feminine], Number: [singular]},\n",
      "     category={F: [neg], N: [pos], V: [neg]},\n",
      "     stop=False,\n",
      "     named_entity=None,\n",
      "     syllables=None,\n",
      "     phonetic_transcription=None,\n",
      "     definition=None)\n"
     ]
    }
   ],
   "source": [
    "pprint(plutarch_fragment_analyzed.words[7]) "
   ]
  },
  {
   "cell_type": "code",
   "execution_count": 7,
   "id": "9b076ce2",
   "metadata": {},
   "outputs": [
    {
     "name": "stdout",
     "output_type": "stream",
     "text": [
      "Word(index_char_start=None, index_char_stop=None, index_token=3, index_sentence=0, string='θεράπευμα', pos=noun, lemma='θεράπευμα', stem=None, scansion=None, xpos='Nb', upos='NOUN', dependency_relation='obj', governor=2, features={Case: [accusative], Gender: [neuter], Number: [singular]}, category={F: [neg], N: [pos], V: [neg]}, stop=False, named_entity=None, syllables=None, phonetic_transcription=None, definition=None)\n"
     ]
    }
   ],
   "source": [
    "pprint(plutarch_fragment_analyzed.words[3]) "
   ]
  },
  {
   "cell_type": "code",
   "execution_count": 8,
   "id": "1b259da2",
   "metadata": {},
   "outputs": [
    {
     "name": "stdout",
     "output_type": "stream",
     "text": [
      "array([0., 0., 0., 0., 0., 0., 0., 0., 0., 0., 0., 0., 0., 0., 0., 0., 0.,\n",
      "       0., 0., 0., 0., 0., 0., 0., 0., 0., 0., 0., 0., 0., 0., 0., 0., 0.,\n",
      "       0., 0., 0., 0., 0., 0., 0., 0., 0., 0., 0., 0., 0., 0., 0., 0., 0.,\n",
      "       0., 0., 0., 0., 0., 0., 0., 0., 0., 0., 0., 0., 0., 0., 0., 0., 0.,\n",
      "       0., 0., 0., 0., 0., 0., 0., 0., 0., 0., 0., 0., 0., 0., 0., 0., 0.,\n",
      "       0., 0., 0., 0., 0., 0., 0., 0., 0., 0., 0., 0., 0., 0., 0.])\n"
     ]
    }
   ],
   "source": [
    "pprint(plutarch_fragment_analyzed.words[3].embedding) "
   ]
  }
 ],
 "metadata": {
  "kernelspec": {
   "display_name": "Python 3 (ipykernel)",
   "language": "python",
   "name": "python3"
  },
  "language_info": {
   "codemirror_mode": {
    "name": "ipython",
    "version": 3
   },
   "file_extension": ".py",
   "mimetype": "text/x-python",
   "name": "python",
   "nbconvert_exporter": "python",
   "pygments_lexer": "ipython3",
   "version": "3.10.9"
  }
 },
 "nbformat": 4,
 "nbformat_minor": 5
}
